{
 "cells": [
  {
   "attachments": {},
   "cell_type": "markdown",
   "id": "47200932",
   "metadata": {
    "id": "47200932"
   },
   "source": [
    "PROJECT\n",
    "Note: KINDLY FIND THE ATTACHED REPORT\n",
    "# GROUP 1 \n",
    "# MEMBERS : BCSF20A007 , BCSF20A004 , BCSF20A038 , BCSF20A043\n"
   ]
  },
  {
   "attachments": {},
   "cell_type": "markdown",
   "id": "IwlwKlmWGSqM",
   "metadata": {
    "id": "IwlwKlmWGSqM"
   },
   "source": [
    "# *Using all Sensor Data*"
   ]
  },
  {
   "cell_type": "code",
   "execution_count": 2,
   "id": "I75JcZU7WWMY",
   "metadata": {
    "executionInfo": {
     "elapsed": 15513,
     "status": "ok",
     "timestamp": 1688886917662,
     "user": {
      "displayName": "Moeen Arif",
      "userId": "01576483734091846864"
     },
     "user_tz": -300
    },
    "id": "I75JcZU7WWMY"
   },
   "outputs": [
    {
     "ename": "ModuleNotFoundError",
     "evalue": "No module named 'google'",
     "output_type": "error",
     "traceback": [
      "\u001b[1;31m---------------------------------------------------------------------------\u001b[0m",
      "\u001b[1;31mModuleNotFoundError\u001b[0m                       Traceback (most recent call last)",
      "Cell \u001b[1;32mIn[2], line 1\u001b[0m\n\u001b[1;32m----> 1\u001b[0m \u001b[38;5;28;01mfrom\u001b[39;00m \u001b[38;5;21;01mgoogle\u001b[39;00m\u001b[38;5;21;01m.\u001b[39;00m\u001b[38;5;21;01mcolab\u001b[39;00m \u001b[38;5;28;01mimport\u001b[39;00m auth\n\u001b[0;32m      2\u001b[0m auth\u001b[38;5;241m.\u001b[39mauthenticate_user()\n",
      "\u001b[1;31mModuleNotFoundError\u001b[0m: No module named 'google'"
     ]
    }
   ],
   "source": [
    "from google.colab import auth\n",
    "auth.authenticate_user()"
   ]
  },
  {
   "cell_type": "code",
   "execution_count": null,
   "id": "sq0UO23QgYI8",
   "metadata": {
    "colab": {
     "base_uri": "https://localhost:8080/"
    },
    "executionInfo": {
     "elapsed": 20568,
     "status": "ok",
     "timestamp": 1688887081960,
     "user": {
      "displayName": "Moeen Arif",
      "userId": "01576483734091846864"
     },
     "user_tz": -300
    },
    "id": "sq0UO23QgYI8",
    "outputId": "9e7d663f-ac7d-47d9-b0a5-c568c8fb2bab"
   },
   "outputs": [],
   "source": [
    "from google.colab import drive\n",
    "drive.mount('/content/drive')\n"
   ]
  },
  {
   "cell_type": "code",
   "execution_count": null,
   "id": "FKlGZ9YCCg7K",
   "metadata": {
    "colab": {
     "base_uri": "https://localhost:8080/"
    },
    "executionInfo": {
     "elapsed": 438,
     "status": "ok",
     "timestamp": 1688887085276,
     "user": {
      "displayName": "Moeen Arif",
      "userId": "01576483734091846864"
     },
     "user_tz": -300
    },
    "id": "FKlGZ9YCCg7K",
    "outputId": "8769e6e9-24ad-4834-e53e-9a46d0465eab"
   },
   "outputs": [],
   "source": [
    "import os\n",
    "os.listdir('.')"
   ]
  },
  {
   "cell_type": "code",
   "execution_count": null,
   "id": "vGddRtbsXAjS",
   "metadata": {
    "colab": {
     "base_uri": "https://localhost:8080/"
    },
    "executionInfo": {
     "elapsed": 5,
     "status": "ok",
     "timestamp": 1688887088090,
     "user": {
      "displayName": "Moeen Arif",
      "userId": "01576483734091846864"
     },
     "user_tz": -300
    },
    "id": "vGddRtbsXAjS",
    "outputId": "c0bace63-6e6a-4542-baf3-e4c06b959911"
   },
   "outputs": [],
   "source": [
    "%cd /content/drive/MyDrive/bbh\n",
    "\n",
    "os.listdir('.')\n"
   ]
  },
  {
   "cell_type": "code",
   "execution_count": null,
   "id": "18ce6756",
   "metadata": {},
   "outputs": [],
   "source": [
    "import os\n",
    "os.listdir('.')"
   ]
  },
  {
   "attachments": {},
   "cell_type": "markdown",
   "id": "9a867152",
   "metadata": {},
   "source": [
    "## run code from here"
   ]
  },
  {
   "cell_type": "code",
   "execution_count": 1,
   "id": "Ewj813DkHc85",
   "metadata": {
    "colab": {
     "base_uri": "https://localhost:8080/"
    },
    "executionInfo": {
     "elapsed": 7370,
     "status": "ok",
     "timestamp": 1688887104333,
     "user": {
      "displayName": "Moeen Arif",
      "userId": "01576483734091846864"
     },
     "user_tz": -300
    },
    "id": "Ewj813DkHc85",
    "outputId": "8c314acf-9796-42e6-c75a-6686e6e5c897"
   },
   "outputs": [
    {
     "name": "stdout",
     "output_type": "stream",
     "text": [
      "(2284,)\n",
      "(2288,)\n"
     ]
    }
   ],
   "source": [
    "import numpy as np\n",
    "\n",
    "train_accelerometer_path = './training/trainAccelerometer.npy'\n",
    "train_gravity_path =  './training/trainGravity.npy'\n",
    "train_gyroscope_path =  './training/trainGyroscope.npy'\n",
    "train_jins_accelerometer_path =  './training/trainJinsAccelerometer.npy'\n",
    "train_jins_gyroscope_path =  './training/trainJinsGyroscope.npy'\n",
    "train_label_path = './training/trainLabels.npy'\n",
    "train_linear_acceleration_path  = './training/trainLinearAcceleration.npy'\n",
    "train_ms_accelerometer_path = './training/trainMSAccelerometer.npy'\n",
    "train_ms_gyroscope_path = './training/trainMSGyroscope.npy'\n",
    "train_magnetometer_path = './training/trainMagnetometer.npy'\n",
    "\n",
    "train_accelerometer = np.load(train_accelerometer_path)\n",
    "train_gravity =  np.load(train_gravity_path)\n",
    "train_gyroscope = np.load(train_jins_accelerometer_path)\n",
    "train_jins_accelerometer =  np.load(train_jins_accelerometer_path)\n",
    "train_jins_gyroscope =  np.load(train_jins_gyroscope_path )\n",
    "train_label = np.load(train_label_path)\n",
    "train_linear_acceleration  = np.load(train_linear_acceleration_path)\n",
    "train_ms_accelerometer = np.load(train_ms_accelerometer_path)\n",
    "train_ms_gyroscope = np.load(train_ms_gyroscope_path)\n",
    "train_magnetometer = np.load(train_magnetometer_path)\n",
    "\n",
    "\n",
    "test_accelerometer_path = './testing/testAccelerometer.npy'\n",
    "test_gravity_path =  './testing/testGravity.npy'\n",
    "test_gyroscope_path =  './testing/testGyroscope.npy'\n",
    "test_jins_accelerometer_path =  './testing/testJinsAccelerometer.npy'\n",
    "test_jins_gyroscope_path =  './testing/testJinsGyroscope.npy'\n",
    "test_label_path = './testing/testLabels.npy'\n",
    "test_linear_acceleration_path  = './testing/testLinearAcceleration.npy'\n",
    "test_ms_accelerometer_path = './testing/testMSAccelerometer.npy'\n",
    "test_ms_gyroscope_path = './testing/testMSGyroscope.npy'\n",
    "test_magnetometer_path = './testing/testMagnetometer.npy'\n",
    "\n",
    "test_accelerometer = np.load(test_accelerometer_path)\n",
    "test_gravity =  np.load(test_gravity_path)\n",
    "test_gyroscope = np.load(test_jins_accelerometer_path)\n",
    "test_jins_accelerometer =  np.load(test_jins_accelerometer_path)\n",
    "test_jins_gyroscope =  np.load(test_jins_gyroscope_path )\n",
    "test_label = np.load(test_label_path)\n",
    "test_linear_acceleration  = np.load(test_linear_acceleration_path)\n",
    "test_ms_accelerometer = np.load(test_ms_accelerometer_path)\n",
    "test_ms_gyroscope = np.load(test_ms_gyroscope_path)\n",
    "test_magnetometer = np.load(test_magnetometer_path)\n",
    "\n",
    "\n",
    "\n",
    "print(train_label.shape)\n",
    "print(test_label.shape)\n"
   ]
  },
  {
   "cell_type": "code",
   "execution_count": 2,
   "id": "Uvqh2qTnNn80",
   "metadata": {
    "executionInfo": {
     "elapsed": 2,
     "status": "ok",
     "timestamp": 1688887111879,
     "user": {
      "displayName": "Moeen Arif",
      "userId": "01576483734091846864"
     },
     "user_tz": -300
    },
    "id": "Uvqh2qTnNn80"
   },
   "outputs": [],
   "source": [
    "#sensors to use\n",
    "sensors = [train_accelerometer, train_gravity, train_gyroscope, train_jins_accelerometer,\n",
    "           train_jins_gyroscope, train_linear_acceleration,train_ms_accelerometer,\n",
    "           train_ms_gyroscope, train_magnetometer]\n",
    "\n"
   ]
  },
  {
   "cell_type": "code",
   "execution_count": 3,
   "id": "5vmWpSt_bJcc",
   "metadata": {
    "executionInfo": {
     "elapsed": 4,
     "status": "ok",
     "timestamp": 1688887115680,
     "user": {
      "displayName": "Moeen Arif",
      "userId": "01576483734091846864"
     },
     "user_tz": -300
    },
    "id": "5vmWpSt_bJcc"
   },
   "outputs": [],
   "source": [
    "from scipy.fft import fft\n",
    "import numpy as np\n",
    "\n",
    "def calculate_spectral_energy(column):\n",
    "    # Compute the magnitude spectrum using the Fast Fourier Transform\n",
    "    spectrum = np.abs(np.fft.fft(column))\n",
    "\n",
    "    # Calculate the spectral energy as the sum of squared magnitudes\n",
    "    energy = np.sum(np.square(spectrum))\n",
    "\n",
    "    return energy\n",
    "\n",
    "\n",
    "def first_order_meen(column):\n",
    "    # Calculate the differences between consecutive elements\n",
    "    differences = np.diff(column)\n",
    "\n",
    "    # Calculate the mean of the differences\n",
    "    mean = np.mean(differences)\n",
    "\n",
    "    return mean\n",
    "\n",
    "def interquartile_range(data):\n",
    "    # Calculate the 25th percentile (first quartile)\n",
    "    q1 = np.percentile(data, 25)\n",
    "\n",
    "    # Calculate the 75th percentile (third quartile)\n",
    "    q3 = np.percentile(data, 75)\n",
    "\n",
    "    # Calculate the interquartile range\n",
    "    iqr = q3 - q1\n",
    "\n",
    "    return iqr\n",
    "\n",
    "def zero_crossing(data):\n",
    "    # Find the indices where the sign of consecutive elements change\n",
    "    sign_changes = np.where(np.diff(np.sign(data)))[0]\n",
    "\n",
    "    return len(sign_changes)\n",
    "\n",
    "\n",
    "\n",
    "def norm_first_order_meen(column):\n",
    "    # Ensure column is a one-dimensional array\n",
    "    column = np.array(column).ravel()\n",
    "\n",
    "    # Calculate the differences between consecutive elements\n",
    "    differences = np.diff(column)\n",
    "\n",
    "    # Calculate the mean of the differences\n",
    "    mean = np.mean(differences)\n",
    "\n",
    "    # Normalize the mean by dividing by the standard deviation\n",
    "    std = np.std(differences)\n",
    "    if std != 0 and not np.isnan(std):\n",
    "      norm_mean = mean / std\n",
    "    else:\n",
    "      norm_mean = np.mean(column)\n",
    "\n",
    "\n",
    "    return norm_mean\n",
    "\n",
    "\n",
    "def second_order_meen(column):\n",
    "    # Calculate the differences between consecutive elements\n",
    "    differences = np.diff(column)\n",
    "\n",
    "    # Calculate the mean of the squared differences\n",
    "    squared_diff_mean = np.mean(np.square(differences))\n",
    "\n",
    "    return squared_diff_mean\n",
    "\n",
    "\n",
    "def norm_second_order_meen(column):\n",
    "    # Calculate the differences between consecutive elements\n",
    "    differences = np.diff(column)\n",
    "\n",
    "    # Calculate the mean of the squared differences\n",
    "    squared_diff_mean = np.mean(np.square(differences))\n",
    "\n",
    "    # Normalize the mean by dividing by the standard deviation\n",
    "    std = np.std(differences)\n",
    "\n",
    "    if std != 0 and not np.isnan(std):\n",
    "      norm_mean = squared_diff_mean / std\n",
    "    else:\n",
    "      norm_mean = np.mean(column)\n",
    "\n",
    "\n",
    "    return norm_mean\n",
    "\n",
    "\n",
    "def spectral_entrpy(column):\n",
    "    # Compute the magnitude spectrum using the Fast Fourier Transform\n",
    "    spectrum = np.abs(np.fft.fft(column))\n",
    "\n",
    "    # Normalize the spectrum\n",
    "    sum_spectrum = np.sum(spectrum)\n",
    "    if sum_spectrum != 0 and not np.isnan(sum_spectrum):\n",
    "      normalized_spectrum = spectrum / sum_spectrum\n",
    "    else:\n",
    "      # Handle the scenario when sum_spectrum is zero or invalid\n",
    "      normalized_spectrum = np.zeros_like(spectrum)  # or any other appropriate value\n",
    "\n",
    "    # Compute the entropy\n",
    "    zero_mask = normalized_spectrum == 0\n",
    "    normalized_spectrum[zero_mask] = np.finfo(float).eps  # Replace zeros with a small epsilon value\n",
    "\n",
    "    entropy = -np.sum(normalized_spectrum * np.log2(normalized_spectrum))\n",
    "\n",
    "\n",
    "    return entropy\n",
    "\n",
    "\n",
    "def kurtosis_(column):\n",
    "    # Calculate the kurtosis using the fourth central moment\n",
    "    mean = np.mean(column)\n",
    "    centered_values = column - mean\n",
    "    squared_values = centered_values ** 2\n",
    "    fourth_moment = np.mean(squared_values ** 2)\n",
    "    variance = np.var(column)\n",
    "\n",
    "    if variance != 0 and not np.isnan(variance):\n",
    "      kurt = fourth_moment / (variance ** 2)\n",
    "    else:\n",
    "      # Handle the scenario when variance is zero or invalid\n",
    "      kurt = np.mean(column)  # or any other appropriate value\n",
    "\n",
    "    return kurt\n",
    "\n",
    "def skewness_(column):\n",
    "    # Calculate the skewness using the third central moment\n",
    "    mean = np.mean(column)\n",
    "    centered_values = column - mean\n",
    "    cubed_values = centered_values ** 3\n",
    "    third_moment = np.mean(cubed_values)\n",
    "    variance = np.var(column)\n",
    "\n",
    "    if variance != 0 and not np.isnan(variance):\n",
    "      skew = third_moment / (variance ** (3/2))\n",
    "    else:\n",
    "      skew = np.mean(column)  # or any other appropriate value\n",
    "\n",
    "\n",
    "    return skew\n",
    "\n",
    "def auto_correlation_(column):\n",
    "    # Calculate the auto-correlation using the cross-correlation function\n",
    "    auto_corr = np.correlate(column, column, mode='full')\n",
    "    auto_corr = auto_corr[len(auto_corr)//2]\n",
    "\n",
    "    return auto_corr\n",
    "\n",
    "\n"
   ]
  },
  {
   "cell_type": "code",
   "execution_count": 4,
   "id": "w1TsrApEOLlf",
   "metadata": {
    "executionInfo": {
     "elapsed": 94918,
     "status": "ok",
     "timestamp": 1688887215224,
     "user": {
      "displayName": "Moeen Arif",
      "userId": "01576483734091846864"
     },
     "user_tz": -300
    },
    "id": "w1TsrApEOLlf"
   },
   "outputs": [],
   "source": [
    "feature_matrixes = []\n",
    "for sensor in sensors:\n",
    "  sensor_feature_matrix = np.zeros((sensor.shape[0], 54))\n",
    "  feature_matrixes.append(sensor_feature_matrix)\n",
    "  for i in range(sensor.shape[0]):\n",
    "    result_matrix = np.zeros((18,3))\n",
    "    example = sensor[i]\n",
    "\n",
    "    for j in range(3):\n",
    "      col = example[:, j]\n",
    "      maximum = np.max(col)\n",
    "      minimum = np.min(col)\n",
    "      avg = np.average(col)\n",
    "      stand_deviation = np.std(col)\n",
    "      zero_cross = zero_crossing(col)\n",
    "      percentile_20 = np.percentile(col, 20)\n",
    "      percentile_50 = np.percentile(col, 50)\n",
    "      percentile_80 = np.percentile(col, 80)\n",
    "      interquartile = interquartile_range(col)\n",
    "      skewness = skewness_(col)\n",
    "      kurtosis = kurtosis_(col)\n",
    "      auto_corr = auto_correlation_(col)\n",
    "      first_order_mean_val = first_order_meen(col)\n",
    "      norm_first_order_mean_val = norm_first_order_meen(col)\n",
    "      second_order_mean_val = second_order_meen(col)\n",
    "      norm_second_order_mean_val = norm_second_order_meen(col)\n",
    "      spectral_energy = calculate_spectral_energy(col)\n",
    "      spectral_entropy = spectral_entrpy(col)\n",
    "      values = [maximum,minimum, avg, stand_deviation, zero_cross, percentile_20, percentile_50, percentile_80\n",
    "                ,  interquartile ,skewness,kurtosis, auto_corr, first_order_mean_val, norm_first_order_mean_val,\n",
    "                second_order_mean_val, norm_second_order_mean_val ,\n",
    "                spectral_energy , spectral_entropy ]\n",
    "\n",
    "      result_matrix[:, j] = values\n",
    "    reshaped_matrix = result_matrix.flatten()\n",
    "    sensor_feature_matrix[i] = reshaped_matrix\n",
    "\n",
    "\n",
    "  # all_sensor_feature_Matrix = np.concatenate((all_sensor_feature_Matrix , sensor_feature_matrix), axis=1)\n",
    "\n",
    "\n",
    "\n"
   ]
  },
  {
   "cell_type": "code",
   "execution_count": 5,
   "id": "i_QpFCKofd12",
   "metadata": {
    "colab": {
     "base_uri": "https://localhost:8080/"
    },
    "executionInfo": {
     "elapsed": 3,
     "status": "ok",
     "timestamp": 1688887287218,
     "user": {
      "displayName": "Moeen Arif",
      "userId": "01576483734091846864"
     },
     "user_tz": -300
    },
    "id": "i_QpFCKofd12",
    "outputId": "7e03fdcd-6f58-47cb-9501-5504b2d8c249"
   },
   "outputs": [
    {
     "name": "stdout",
     "output_type": "stream",
     "text": [
      "(2284, 54)\n",
      "(2284, 54)\n",
      "(2284, 54)\n",
      "(2284, 54)\n",
      "(2284, 54)\n",
      "(2284, 54)\n",
      "(2284, 54)\n",
      "(2284, 54)\n",
      "(2284, 54)\n",
      "all (2284, 486)\n",
      "train_label (2284,)\n"
     ]
    }
   ],
   "source": [
    "all_sensors_feature_matrix = np.concatenate((feature_matrixes[0], feature_matrixes[1], feature_matrixes[2], feature_matrixes[3], feature_matrixes[4], feature_matrixes[5]\n",
    "                , feature_matrixes[6], feature_matrixes[7], feature_matrixes[8]), axis=1)\n",
    "\n",
    "for i in feature_matrixes:\n",
    "  print(i.shape)\n",
    "\n",
    "print(\"all\", all_sensors_feature_matrix.shape)\n",
    "print('train_label', train_label.shape)"
   ]
  },
  {
   "attachments": {},
   "cell_type": "markdown",
   "id": "gcByS3udfro5",
   "metadata": {
    "id": "gcByS3udfro5"
   },
   "source": [
    "## Checking NaN in features"
   ]
  },
  {
   "cell_type": "code",
   "execution_count": 8,
   "id": "mTOgtBOTaAGN",
   "metadata": {
    "colab": {
     "base_uri": "https://localhost:8080/"
    },
    "executionInfo": {
     "elapsed": 453,
     "status": "ok",
     "timestamp": 1688887289513,
     "user": {
      "displayName": "Moeen Arif",
      "userId": "01576483734091846864"
     },
     "user_tz": -300
    },
    "id": "mTOgtBOTaAGN",
    "outputId": "e209d990-36a7-4836-8c7f-f5ba0f21bae6"
   },
   "outputs": [
    {
     "name": "stdout",
     "output_type": "stream",
     "text": [
      "count 0\n"
     ]
    }
   ],
   "source": [
    "import math\n",
    "index = -1\n",
    "count = 0\n",
    "for f_matrix in feature_matrixes:\n",
    "  index += 1\n",
    "  for i in range(2284):\n",
    "    for j in range(51):\n",
    "\n",
    "      if math.isnan(f_matrix[i][j]):\n",
    "        count += 1\n",
    "        # print(\"Feature Matrix: \" ,  index, \" with value \", feature_matrix[i][j])\n",
    "\n",
    "print(\"count\", count)\n",
    "# print(feature_matrixes[0])"
   ]
  },
  {
   "attachments": {},
   "cell_type": "markdown",
   "id": "YkpyrUJHR0Ep",
   "metadata": {
    "id": "YkpyrUJHR0Ep"
   },
   "source": [
    "## **TRAINING THE MODEL**"
   ]
  },
  {
   "cell_type": "code",
   "execution_count": 6,
   "id": "Y8BwfbA6R9VZ",
   "metadata": {
    "colab": {
     "base_uri": "https://localhost:8080/",
     "height": 125
    },
    "executionInfo": {
     "elapsed": 10033,
     "status": "ok",
     "timestamp": 1688887302009,
     "user": {
      "displayName": "Moeen Arif",
      "userId": "01576483734091846864"
     },
     "user_tz": -300
    },
    "id": "Y8BwfbA6R9VZ",
    "outputId": "6132daa1-c539-4286-97ff-c80f948fce0a"
   },
   "outputs": [
    {
     "data": {
      "text/html": [
       "<style>#sk-container-id-1 {color: black;}#sk-container-id-1 pre{padding: 0;}#sk-container-id-1 div.sk-toggleable {background-color: white;}#sk-container-id-1 label.sk-toggleable__label {cursor: pointer;display: block;width: 100%;margin-bottom: 0;padding: 0.3em;box-sizing: border-box;text-align: center;}#sk-container-id-1 label.sk-toggleable__label-arrow:before {content: \"▸\";float: left;margin-right: 0.25em;color: #696969;}#sk-container-id-1 label.sk-toggleable__label-arrow:hover:before {color: black;}#sk-container-id-1 div.sk-estimator:hover label.sk-toggleable__label-arrow:before {color: black;}#sk-container-id-1 div.sk-toggleable__content {max-height: 0;max-width: 0;overflow: hidden;text-align: left;background-color: #f0f8ff;}#sk-container-id-1 div.sk-toggleable__content pre {margin: 0.2em;color: black;border-radius: 0.25em;background-color: #f0f8ff;}#sk-container-id-1 input.sk-toggleable__control:checked~div.sk-toggleable__content {max-height: 200px;max-width: 100%;overflow: auto;}#sk-container-id-1 input.sk-toggleable__control:checked~label.sk-toggleable__label-arrow:before {content: \"▾\";}#sk-container-id-1 div.sk-estimator input.sk-toggleable__control:checked~label.sk-toggleable__label {background-color: #d4ebff;}#sk-container-id-1 div.sk-label input.sk-toggleable__control:checked~label.sk-toggleable__label {background-color: #d4ebff;}#sk-container-id-1 input.sk-hidden--visually {border: 0;clip: rect(1px 1px 1px 1px);clip: rect(1px, 1px, 1px, 1px);height: 1px;margin: -1px;overflow: hidden;padding: 0;position: absolute;width: 1px;}#sk-container-id-1 div.sk-estimator {font-family: monospace;background-color: #f0f8ff;border: 1px dotted black;border-radius: 0.25em;box-sizing: border-box;margin-bottom: 0.5em;}#sk-container-id-1 div.sk-estimator:hover {background-color: #d4ebff;}#sk-container-id-1 div.sk-parallel-item::after {content: \"\";width: 100%;border-bottom: 1px solid gray;flex-grow: 1;}#sk-container-id-1 div.sk-label:hover label.sk-toggleable__label {background-color: #d4ebff;}#sk-container-id-1 div.sk-serial::before {content: \"\";position: absolute;border-left: 1px solid gray;box-sizing: border-box;top: 0;bottom: 0;left: 50%;z-index: 0;}#sk-container-id-1 div.sk-serial {display: flex;flex-direction: column;align-items: center;background-color: white;padding-right: 0.2em;padding-left: 0.2em;position: relative;}#sk-container-id-1 div.sk-item {position: relative;z-index: 1;}#sk-container-id-1 div.sk-parallel {display: flex;align-items: stretch;justify-content: center;background-color: white;position: relative;}#sk-container-id-1 div.sk-item::before, #sk-container-id-1 div.sk-parallel-item::before {content: \"\";position: absolute;border-left: 1px solid gray;box-sizing: border-box;top: 0;bottom: 0;left: 50%;z-index: -1;}#sk-container-id-1 div.sk-parallel-item {display: flex;flex-direction: column;z-index: 1;position: relative;background-color: white;}#sk-container-id-1 div.sk-parallel-item:first-child::after {align-self: flex-end;width: 50%;}#sk-container-id-1 div.sk-parallel-item:last-child::after {align-self: flex-start;width: 50%;}#sk-container-id-1 div.sk-parallel-item:only-child::after {width: 0;}#sk-container-id-1 div.sk-dashed-wrapped {border: 1px dashed gray;margin: 0 0.4em 0.5em 0.4em;box-sizing: border-box;padding-bottom: 0.4em;background-color: white;}#sk-container-id-1 div.sk-label label {font-family: monospace;font-weight: bold;display: inline-block;line-height: 1.2em;}#sk-container-id-1 div.sk-label-container {text-align: center;}#sk-container-id-1 div.sk-container {/* jupyter's `normalize.less` sets `[hidden] { display: none; }` but bootstrap.min.css set `[hidden] { display: none !important; }` so we also need the `!important` here to be able to override the default hidden behavior on the sphinx rendered scikit-learn.org. See: https://github.com/scikit-learn/scikit-learn/issues/21755 */display: inline-block !important;position: relative;}#sk-container-id-1 div.sk-text-repr-fallback {display: none;}</style><div id=\"sk-container-id-1\" class=\"sk-top-container\"><div class=\"sk-text-repr-fallback\"><pre>Pipeline(steps=[(&#x27;simpleimputer&#x27;, SimpleImputer()),\n",
       "                (&#x27;randomforestclassifier&#x27;, RandomForestClassifier())])</pre><b>In a Jupyter environment, please rerun this cell to show the HTML representation or trust the notebook. <br />On GitHub, the HTML representation is unable to render, please try loading this page with nbviewer.org.</b></div><div class=\"sk-container\" hidden><div class=\"sk-item sk-dashed-wrapped\"><div class=\"sk-label-container\"><div class=\"sk-label sk-toggleable\"><input class=\"sk-toggleable__control sk-hidden--visually\" id=\"sk-estimator-id-1\" type=\"checkbox\" ><label for=\"sk-estimator-id-1\" class=\"sk-toggleable__label sk-toggleable__label-arrow\">Pipeline</label><div class=\"sk-toggleable__content\"><pre>Pipeline(steps=[(&#x27;simpleimputer&#x27;, SimpleImputer()),\n",
       "                (&#x27;randomforestclassifier&#x27;, RandomForestClassifier())])</pre></div></div></div><div class=\"sk-serial\"><div class=\"sk-item\"><div class=\"sk-estimator sk-toggleable\"><input class=\"sk-toggleable__control sk-hidden--visually\" id=\"sk-estimator-id-2\" type=\"checkbox\" ><label for=\"sk-estimator-id-2\" class=\"sk-toggleable__label sk-toggleable__label-arrow\">SimpleImputer</label><div class=\"sk-toggleable__content\"><pre>SimpleImputer()</pre></div></div></div><div class=\"sk-item\"><div class=\"sk-estimator sk-toggleable\"><input class=\"sk-toggleable__control sk-hidden--visually\" id=\"sk-estimator-id-3\" type=\"checkbox\" ><label for=\"sk-estimator-id-3\" class=\"sk-toggleable__label sk-toggleable__label-arrow\">RandomForestClassifier</label><div class=\"sk-toggleable__content\"><pre>RandomForestClassifier()</pre></div></div></div></div></div></div></div>"
      ],
      "text/plain": [
       "Pipeline(steps=[('simpleimputer', SimpleImputer()),\n",
       "                ('randomforestclassifier', RandomForestClassifier())])"
      ]
     },
     "execution_count": 6,
     "metadata": {},
     "output_type": "execute_result"
    }
   ],
   "source": [
    "from sklearn.ensemble import RandomForestClassifier\n",
    "from sklearn.impute import SimpleImputer\n",
    "from sklearn.pipeline import make_pipeline\n",
    "\n",
    "# algo=RandomForestClassifier(n_estimators=100 , criterion='gini')\n",
    "# # n_estimators tell us how many number of trees we want to generate\n",
    "\n",
    "# # Train the model\n",
    "# algo.fit( #feature_matrix is taken as a input and test_labels are the labels\n",
    "\n",
    "\n",
    "\n",
    "# Create an imputer to handle missing values\n",
    "imputer = SimpleImputer(strategy='mean')\n",
    "\n",
    "# Create a pipeline with the imputer and the classifier\n",
    "pipeline = make_pipeline(imputer, RandomForestClassifier(n_estimators=100 , criterion='gini'))\n",
    "\n",
    "# Fit the pipeline to your data\n",
    "pipeline.fit(all_sensors_feature_matrix , train_label)\n"
   ]
  },
  {
   "cell_type": "code",
   "execution_count": 10,
   "id": "rUHZszfOeTy9",
   "metadata": {
    "colab": {
     "base_uri": "https://localhost:8080/",
     "height": 74
    },
    "executionInfo": {
     "elapsed": 209776,
     "status": "ok",
     "timestamp": 1688855980481,
     "user": {
      "displayName": "Moeen Arif",
      "userId": "01576483734091846864"
     },
     "user_tz": -300
    },
    "id": "rUHZszfOeTy9",
    "outputId": "0814793b-8f77-4a53-fe51-339e3e5168b0"
   },
   "outputs": [
    {
     "data": {
      "text/html": [
       "<style>#sk-container-id-2 {color: black;}#sk-container-id-2 pre{padding: 0;}#sk-container-id-2 div.sk-toggleable {background-color: white;}#sk-container-id-2 label.sk-toggleable__label {cursor: pointer;display: block;width: 100%;margin-bottom: 0;padding: 0.3em;box-sizing: border-box;text-align: center;}#sk-container-id-2 label.sk-toggleable__label-arrow:before {content: \"▸\";float: left;margin-right: 0.25em;color: #696969;}#sk-container-id-2 label.sk-toggleable__label-arrow:hover:before {color: black;}#sk-container-id-2 div.sk-estimator:hover label.sk-toggleable__label-arrow:before {color: black;}#sk-container-id-2 div.sk-toggleable__content {max-height: 0;max-width: 0;overflow: hidden;text-align: left;background-color: #f0f8ff;}#sk-container-id-2 div.sk-toggleable__content pre {margin: 0.2em;color: black;border-radius: 0.25em;background-color: #f0f8ff;}#sk-container-id-2 input.sk-toggleable__control:checked~div.sk-toggleable__content {max-height: 200px;max-width: 100%;overflow: auto;}#sk-container-id-2 input.sk-toggleable__control:checked~label.sk-toggleable__label-arrow:before {content: \"▾\";}#sk-container-id-2 div.sk-estimator input.sk-toggleable__control:checked~label.sk-toggleable__label {background-color: #d4ebff;}#sk-container-id-2 div.sk-label input.sk-toggleable__control:checked~label.sk-toggleable__label {background-color: #d4ebff;}#sk-container-id-2 input.sk-hidden--visually {border: 0;clip: rect(1px 1px 1px 1px);clip: rect(1px, 1px, 1px, 1px);height: 1px;margin: -1px;overflow: hidden;padding: 0;position: absolute;width: 1px;}#sk-container-id-2 div.sk-estimator {font-family: monospace;background-color: #f0f8ff;border: 1px dotted black;border-radius: 0.25em;box-sizing: border-box;margin-bottom: 0.5em;}#sk-container-id-2 div.sk-estimator:hover {background-color: #d4ebff;}#sk-container-id-2 div.sk-parallel-item::after {content: \"\";width: 100%;border-bottom: 1px solid gray;flex-grow: 1;}#sk-container-id-2 div.sk-label:hover label.sk-toggleable__label {background-color: #d4ebff;}#sk-container-id-2 div.sk-serial::before {content: \"\";position: absolute;border-left: 1px solid gray;box-sizing: border-box;top: 0;bottom: 0;left: 50%;z-index: 0;}#sk-container-id-2 div.sk-serial {display: flex;flex-direction: column;align-items: center;background-color: white;padding-right: 0.2em;padding-left: 0.2em;position: relative;}#sk-container-id-2 div.sk-item {position: relative;z-index: 1;}#sk-container-id-2 div.sk-parallel {display: flex;align-items: stretch;justify-content: center;background-color: white;position: relative;}#sk-container-id-2 div.sk-item::before, #sk-container-id-2 div.sk-parallel-item::before {content: \"\";position: absolute;border-left: 1px solid gray;box-sizing: border-box;top: 0;bottom: 0;left: 50%;z-index: -1;}#sk-container-id-2 div.sk-parallel-item {display: flex;flex-direction: column;z-index: 1;position: relative;background-color: white;}#sk-container-id-2 div.sk-parallel-item:first-child::after {align-self: flex-end;width: 50%;}#sk-container-id-2 div.sk-parallel-item:last-child::after {align-self: flex-start;width: 50%;}#sk-container-id-2 div.sk-parallel-item:only-child::after {width: 0;}#sk-container-id-2 div.sk-dashed-wrapped {border: 1px dashed gray;margin: 0 0.4em 0.5em 0.4em;box-sizing: border-box;padding-bottom: 0.4em;background-color: white;}#sk-container-id-2 div.sk-label label {font-family: monospace;font-weight: bold;display: inline-block;line-height: 1.2em;}#sk-container-id-2 div.sk-label-container {text-align: center;}#sk-container-id-2 div.sk-container {/* jupyter's `normalize.less` sets `[hidden] { display: none; }` but bootstrap.min.css set `[hidden] { display: none !important; }` so we also need the `!important` here to be able to override the default hidden behavior on the sphinx rendered scikit-learn.org. See: https://github.com/scikit-learn/scikit-learn/issues/21755 */display: inline-block !important;position: relative;}#sk-container-id-2 div.sk-text-repr-fallback {display: none;}</style><div id=\"sk-container-id-2\" class=\"sk-top-container\"><div class=\"sk-text-repr-fallback\"><pre>HistGradientBoostingClassifier()</pre><b>In a Jupyter environment, please rerun this cell to show the HTML representation or trust the notebook. <br />On GitHub, the HTML representation is unable to render, please try loading this page with nbviewer.org.</b></div><div class=\"sk-container\" hidden><div class=\"sk-item\"><div class=\"sk-estimator sk-toggleable\"><input class=\"sk-toggleable__control sk-hidden--visually\" id=\"sk-estimator-id-4\" type=\"checkbox\" checked><label for=\"sk-estimator-id-4\" class=\"sk-toggleable__label sk-toggleable__label-arrow\">HistGradientBoostingClassifier</label><div class=\"sk-toggleable__content\"><pre>HistGradientBoostingClassifier()</pre></div></div></div></div></div>"
      ],
      "text/plain": [
       "HistGradientBoostingClassifier()"
      ]
     },
     "execution_count": 10,
     "metadata": {},
     "output_type": "execute_result"
    }
   ],
   "source": [
    "from sklearn.ensemble import HistGradientBoostingClassifier\n",
    "\n",
    "# Create an instance of the classifier\n",
    "clf = HistGradientBoostingClassifier()\n",
    "\n",
    "# Fit the classifier to your data\n",
    "clf.fit(all_sensors_feature_matrix, train_label)"
   ]
  },
  {
   "attachments": {},
   "cell_type": "markdown",
   "id": "hKnZs__bSFdU",
   "metadata": {
    "id": "hKnZs__bSFdU"
   },
   "source": [
    "## **TESTING PHASE**"
   ]
  },
  {
   "attachments": {},
   "cell_type": "markdown",
   "id": "5GJryepngXdJ",
   "metadata": {
    "id": "5GJryepngXdJ"
   },
   "source": [
    "# Feature Extraction from test"
   ]
  },
  {
   "cell_type": "code",
   "execution_count": 7,
   "id": "kjq_-P9BgWkY",
   "metadata": {
    "executionInfo": {
     "elapsed": 2,
     "status": "ok",
     "timestamp": 1688887306742,
     "user": {
      "displayName": "Moeen Arif",
      "userId": "01576483734091846864"
     },
     "user_tz": -300
    },
    "id": "kjq_-P9BgWkY"
   },
   "outputs": [],
   "source": [
    "test_sensors = [test_accelerometer, test_gravity, test_gyroscope, test_jins_accelerometer,\n",
    "           test_jins_gyroscope, test_linear_acceleration,test_ms_accelerometer,\n",
    "           test_ms_gyroscope, test_magnetometer]"
   ]
  },
  {
   "cell_type": "code",
   "execution_count": 8,
   "id": "Ru0QWNtyg5lU",
   "metadata": {
    "executionInfo": {
     "elapsed": 98223,
     "status": "ok",
     "timestamp": 1688887406412,
     "user": {
      "displayName": "Moeen Arif",
      "userId": "01576483734091846864"
     },
     "user_tz": -300
    },
    "id": "Ru0QWNtyg5lU"
   },
   "outputs": [],
   "source": [
    "test_feature_matrixes = []\n",
    "for test_sensor in test_sensors:\n",
    "  test_sensor_feature_matrix = np.zeros((test_sensor.shape[0], 54))\n",
    "  test_feature_matrixes.append(test_sensor_feature_matrix)\n",
    "  for i in range(sensor.shape[0]):\n",
    "    result_matrix = np.zeros((18,3))\n",
    "    example = test_sensor[i]\n",
    "\n",
    "    for j in range(3):\n",
    "      # if example.size == 0 or example.shape == () :\n",
    "      #   print(sensor)\n",
    "      #   print(\"row: \", i)\n",
    "      #   break\n",
    "      col = example[:, j]\n",
    "      maximum = np.max(col)\n",
    "      minimum = np.min(col)\n",
    "      avg = np.average(col)\n",
    "      stand_deviation = np.std(col)\n",
    "      zero_cross = zero_crossing(col)\n",
    "      percentile_20 = np.percentile(col, 20)\n",
    "      percentile_50 = np.percentile(col, 50)\n",
    "      percentile_80 = np.percentile(col, 80)\n",
    "      interquartile = interquartile_range(col)\n",
    "      skewness = skewness_(col)\n",
    "      kurtosis = kurtosis_(col)\n",
    "      auto_corr = auto_correlation_(col)\n",
    "      first_order_mean_val = first_order_meen(col)\n",
    "      norm_first_order_mean_val = norm_first_order_meen(col)\n",
    "      second_order_mean_val = second_order_meen(col)\n",
    "      norm_second_order_mean_val = norm_second_order_meen(col)\n",
    "      spectral_energy = calculate_spectral_energy(col)\n",
    "      spectral_entropy = spectral_entrpy(col)\n",
    "      values = [maximum,minimum, avg, stand_deviation, zero_cross, percentile_20, percentile_50, percentile_80\n",
    "                ,  interquartile ,skewness,kurtosis, auto_corr, first_order_mean_val, norm_first_order_mean_val,\n",
    "                second_order_mean_val, norm_second_order_mean_val ,\n",
    "                spectral_energy , spectral_entropy ]\n",
    "\n",
    "      result_matrix[:, j] = values\n",
    "    reshaped_matrix = result_matrix.flatten()\n",
    "    test_sensor_feature_matrix[i] = reshaped_matrix\n",
    "\n",
    "\n",
    "  # all_sensor_feature_Matrix = np.concatenate((all_sensor_feature_Matrix , sensor_feature_matrix), axis=1)\n",
    "\n",
    "\n",
    "\n"
   ]
  },
  {
   "cell_type": "code",
   "execution_count": 9,
   "id": "dk10UlF9iNgp",
   "metadata": {
    "colab": {
     "base_uri": "https://localhost:8080/"
    },
    "executionInfo": {
     "elapsed": 635,
     "status": "ok",
     "timestamp": 1688887412232,
     "user": {
      "displayName": "Moeen Arif",
      "userId": "01576483734091846864"
     },
     "user_tz": -300
    },
    "id": "dk10UlF9iNgp",
    "outputId": "4233a5c5-8b0f-4f58-a537-826334ab34eb"
   },
   "outputs": [
    {
     "name": "stdout",
     "output_type": "stream",
     "text": [
      "(2288, 54)\n",
      "(2288, 54)\n",
      "(2288, 54)\n",
      "(2288, 54)\n",
      "(2288, 54)\n",
      "(2288, 54)\n",
      "(2288, 54)\n",
      "(2288, 54)\n",
      "(2288, 54)\n",
      "all (2288, 486)\n",
      "train_label (2288,)\n"
     ]
    }
   ],
   "source": [
    "test_all_sensors_feature_matrix = np.concatenate((test_feature_matrixes[0], test_feature_matrixes[1], test_feature_matrixes[2],\n",
    "                                                  test_feature_matrixes[3], test_feature_matrixes[4], test_feature_matrixes[5]\n",
    "                , test_feature_matrixes[6], test_feature_matrixes[7], test_feature_matrixes[8]), axis=1)\n",
    "\n",
    "for i in test_feature_matrixes:\n",
    "  print(i.shape)\n",
    "\n",
    "print(\"all\", test_all_sensors_feature_matrix.shape)\n",
    "print('train_label', test_label.shape)"
   ]
  },
  {
   "cell_type": "code",
   "execution_count": 10,
   "id": "p1ho1QWsSjbZ",
   "metadata": {
    "colab": {
     "base_uri": "https://localhost:8080/"
    },
    "executionInfo": {
     "elapsed": 6,
     "status": "ok",
     "timestamp": 1688887418534,
     "user": {
      "displayName": "Moeen Arif",
      "userId": "01576483734091846864"
     },
     "user_tz": -300
    },
    "id": "p1ho1QWsSjbZ",
    "outputId": "52b5ee53-0588-4362-c432-235c6203a16d"
   },
   "outputs": [
    {
     "data": {
      "text/plain": [
       "array([17, 13,  5, ..., 10, 10, 10], dtype=int64)"
      ]
     },
     "execution_count": 10,
     "metadata": {},
     "output_type": "execute_result"
    }
   ],
   "source": [
    "# In[59]:\n",
    "\n",
    "\n",
    "pipeline.predict(test_all_sensors_feature_matrix)\n",
    "\n",
    "\n",
    "\n",
    "\n",
    "\n",
    "\n",
    "\n",
    "\n"
   ]
  },
  {
   "cell_type": "code",
   "execution_count": 15,
   "id": "jM95hOtPjT2h",
   "metadata": {
    "colab": {
     "base_uri": "https://localhost:8080/"
    },
    "executionInfo": {
     "elapsed": 3096,
     "status": "ok",
     "timestamp": 1688856115025,
     "user": {
      "displayName": "Moeen Arif",
      "userId": "01576483734091846864"
     },
     "user_tz": -300
    },
    "id": "jM95hOtPjT2h",
    "outputId": "b5e6023d-1991-4c95-942a-a7a39cc9cbff"
   },
   "outputs": [
    {
     "data": {
      "text/plain": [
       "array([17, 10, 30, ..., 48, 48, 48], dtype=int64)"
      ]
     },
     "execution_count": 15,
     "metadata": {},
     "output_type": "execute_result"
    }
   ],
   "source": [
    "clf.predict(test_all_sensors_feature_matrix)"
   ]
  },
  {
   "cell_type": "code",
   "execution_count": 11,
   "id": "pz7pZXZFit2m",
   "metadata": {
    "colab": {
     "base_uri": "https://localhost:8080/"
    },
    "executionInfo": {
     "elapsed": 448,
     "status": "ok",
     "timestamp": 1688887431009,
     "user": {
      "displayName": "Moeen Arif",
      "userId": "01576483734091846864"
     },
     "user_tz": -300
    },
    "id": "pz7pZXZFit2m",
    "outputId": "3f0d8f91-0ed6-4fac-b0e2-68efa8864ead"
   },
   "outputs": [
    {
     "data": {
      "text/plain": [
       "0.6971153846153846"
      ]
     },
     "execution_count": 11,
     "metadata": {},
     "output_type": "execute_result"
    }
   ],
   "source": [
    "# score for random forest\n",
    "pipeline.score(test_all_sensors_feature_matrix,test_label)"
   ]
  },
  {
   "cell_type": "code",
   "execution_count": 17,
   "id": "XRSwEP4ijjpp",
   "metadata": {
    "colab": {
     "base_uri": "https://localhost:8080/"
    },
    "executionInfo": {
     "elapsed": 5486,
     "status": "ok",
     "timestamp": 1688856125502,
     "user": {
      "displayName": "Moeen Arif",
      "userId": "01576483734091846864"
     },
     "user_tz": -300
    },
    "id": "XRSwEP4ijjpp",
    "outputId": "caef6d0a-3cd5-4aa7-f9eb-2501b08ba675"
   },
   "outputs": [
    {
     "data": {
      "text/plain": [
       "0.6503496503496503"
      ]
     },
     "execution_count": 17,
     "metadata": {},
     "output_type": "execute_result"
    }
   ],
   "source": [
    "#score for HistGradientBoostingClassifier\n",
    "clf.score(test_all_sensors_feature_matrix,test_label)"
   ]
  },
  {
   "attachments": {},
   "cell_type": "markdown",
   "id": "c4sDbta5Z0lx",
   "metadata": {
    "id": "c4sDbta5Z0lx"
   },
   "source": [
    "# For each Sensor"
   ]
  },
  {
   "cell_type": "code",
   "execution_count": 18,
   "id": "BGJpRRoVZ7C5",
   "metadata": {
    "colab": {
     "base_uri": "https://localhost:8080/"
    },
    "executionInfo": {
     "elapsed": 32593,
     "status": "ok",
     "timestamp": 1688856173553,
     "user": {
      "displayName": "Moeen Arif",
      "userId": "01576483734091846864"
     },
     "user_tz": -300
    },
    "id": "BGJpRRoVZ7C5",
    "outputId": "305789a7-782b-4dc7-930e-d6c3cd425a35"
   },
   "outputs": [
    {
     "name": "stdout",
     "output_type": "stream",
     "text": [
      "[0.36145104895104896, 0.34440559440559443, 0.40690559440559443, 0.40777972027972026, 0.40865384615384615, 0.30113636363636365, 0.5367132867132867, 0.4182692307692308, 0.35882867132867136]\n"
     ]
    }
   ],
   "source": [
    "random_forests_per_sensor = []\n",
    "scores_per_sensor = []\n",
    "for i in range(len(sensors)):\n",
    "  random_forests_per_sensor.append(RandomForestClassifier(n_estimators=100 , criterion='gini') )\n",
    "\n",
    "  # Train the model\n",
    "  random_forests_per_sensor[i].fit(feature_matrixes[i], train_label)\n",
    "  random_forests_per_sensor[i].predict(test_feature_matrixes[i])\n",
    "  scores_per_sensor.append( random_forests_per_sensor[i].score(test_feature_matrixes[i], test_label) )\n",
    "\n",
    "\n",
    "print(scores_per_sensor)\n",
    "\n"
   ]
  },
  {
   "attachments": {},
   "cell_type": "markdown",
   "id": "tqAnQrXocHIi",
   "metadata": {
    "id": "tqAnQrXocHIi"
   },
   "source": [
    "# Using Best Score Sensors"
   ]
  },
  {
   "cell_type": "code",
   "execution_count": 14,
   "id": "hrRVgCv5cF8V",
   "metadata": {
    "colab": {
     "base_uri": "https://localhost:8080/"
    },
    "executionInfo": {
     "elapsed": 5,
     "status": "ok",
     "timestamp": 1688887444396,
     "user": {
      "displayName": "Moeen Arif",
      "userId": "01576483734091846864"
     },
     "user_tz": -300
    },
    "id": "hrRVgCv5cF8V",
    "outputId": "4d34802e-4172-4f61-c507-21f825615d75"
   },
   "outputs": [
    {
     "name": "stdout",
     "output_type": "stream",
     "text": [
      "(2284, 378)\n",
      "(2284, 216)\n"
     ]
    }
   ],
   "source": [
    "best_score_feature_matrix_concat = np.concatenate((feature_matrixes[0], feature_matrixes[2], feature_matrixes[3], feature_matrixes[4], feature_matrixes[6], feature_matrixes[7], feature_matrixes[8]), axis=1)\n",
    "test_best_feature_matrix_concat =  np.concatenate((test_feature_matrixes[0], test_feature_matrixes[2], test_feature_matrixes[3], test_feature_matrixes[4], test_feature_matrixes[6], test_feature_matrixes[7], test_feature_matrixes[8]), axis=1)\n",
    "print(best_score_feature_matrix_concat.shape)\n",
    "\n",
    "\n",
    "reduced_best_score_feature_matrix_concat = np.concatenate((feature_matrixes[0], feature_matrixes[1], feature_matrixes[6], feature_matrixes[7]), axis=1)\n",
    "reduced_test_best_feature_matrix_concat =  np.concatenate((test_feature_matrixes[0], test_feature_matrixes[1], test_feature_matrixes[6], test_feature_matrixes[7]), axis=1)\n",
    "print(reduced_best_score_feature_matrix_concat.shape)"
   ]
  },
  {
   "attachments": {},
   "cell_type": "markdown",
   "id": "eavvCAl7c5dM",
   "metadata": {
    "id": "eavvCAl7c5dM"
   },
   "source": [
    "# Training and testing and Score"
   ]
  },
  {
   "cell_type": "code",
   "execution_count": 20,
   "id": "Xb2AYxszc4ce",
   "metadata": {
    "colab": {
     "base_uri": "https://localhost:8080/"
    },
    "executionInfo": {
     "elapsed": 9038,
     "status": "ok",
     "timestamp": 1688856190986,
     "user": {
      "displayName": "Moeen Arif",
      "userId": "01576483734091846864"
     },
     "user_tz": -300
    },
    "id": "Xb2AYxszc4ce",
    "outputId": "9a15d98f-a645-45ad-b7eb-e7d1a8c4b7fe"
   },
   "outputs": [
    {
     "data": {
      "text/plain": [
       "0.7071678321678322"
      ]
     },
     "execution_count": 20,
     "metadata": {},
     "output_type": "execute_result"
    }
   ],
   "source": [
    "best_model = RandomForestClassifier(n_estimators=100 , criterion='gini')\n",
    "best_model.fit(best_score_feature_matrix_concat, train_label)\n",
    "random_forest_y_predict = best_model.predict(test_best_feature_matrix_concat)\n",
    "best_model.score(test_best_feature_matrix_concat, test_label)\n"
   ]
  },
  {
   "cell_type": "code",
   "execution_count": 16,
   "id": "e3250015",
   "metadata": {},
   "outputs": [
    {
     "data": {
      "text/plain": [
       "0.645541958041958"
      ]
     },
     "execution_count": 16,
     "metadata": {},
     "output_type": "execute_result"
    }
   ],
   "source": [
    "# reduced\n",
    "reduced_best_model = RandomForestClassifier(n_estimators=100 , criterion='gini')\n",
    "reduced_best_model.fit(reduced_best_score_feature_matrix_concat, train_label)\n",
    "reduced_random_forest_y_predict = reduced_best_model.predict(reduced_test_best_feature_matrix_concat)\n",
    "reduced_best_model.score(reduced_test_best_feature_matrix_concat, test_label)"
   ]
  },
  {
   "cell_type": "code",
   "execution_count": null,
   "id": "udmMzC6vZAyu",
   "metadata": {
    "id": "udmMzC6vZAyu"
   },
   "outputs": [],
   "source": [
    "# from sklearn import svm\n",
    "# from sklearn.metrics import accuracy_score\n",
    "# svm_model = svm.SVC(kernel='linear')\n",
    "\n",
    "# # Train the SVM model\n",
    "# svm_model.fit(best_score_feature_matrix_concat, train_label)\n",
    "\n"
   ]
  },
  {
   "cell_type": "code",
   "execution_count": null,
   "id": "92529d74",
   "metadata": {},
   "outputs": [],
   "source": [
    "# from sklearn.svm import SVC\n",
    "\n",
    "\n",
    "# from joblib import parallel_backend\n",
    "\n",
    "# #Specify the number of cores to be used for training (e.g., 2 cores)\n",
    "\n",
    "# n_cores = 4\n",
    "\n",
    "# with parallel_backend('threading', n_jobs= n_cores):\n",
    "\n",
    "#     svm_model= SVC (kernel = 'linear', C=1.0)\n",
    "#     svm_model.fit(reduced_best_score_feature_matrix_concat, train_label)\n",
    "\n",
    "# # Evaluate the model on the test set accuracy svm_model.score (test_bes, y_test)\n",
    "\n",
    "# # print(\"Test accuracy:\", accuracy)\n"
   ]
  },
  {
   "cell_type": "code",
   "execution_count": null,
   "id": "OCGzbsVygCBI",
   "metadata": {
    "id": "OCGzbsVygCBI"
   },
   "outputs": [],
   "source": [
    "\n",
    "# # Make predictions on the test set\n",
    "# y_pred = clf.predict(test_best_feature_matrix_concat)\n",
    "\n",
    "# # Evaluate the performance of the SVM model\n",
    "# accuracy = accuracy_score(test_label, y_pred)\n",
    "# print(\"Accuracy:\", accuracy)"
   ]
  },
  {
   "cell_type": "code",
   "execution_count": null,
   "id": "vkRt3jQXiBwi",
   "metadata": {
    "id": "vkRt3jQXiBwi"
   },
   "outputs": [],
   "source": [
    "# from sklearn.metrics import accuracy_score, precision_score, recall_score, f1_score\n",
    "\n",
    "\n",
    " random_forest_f1 = f1_score(test_label, random_forest_y_predict, average='weighted')\n",
    " print(\"Random forest F1 Score:\", random_forest_f1)\n",
    "\n",
    "# svm_f1 = f1_score(test_label, y_pred, average='weighted')\n",
    "# print(\"Svm F1 Score:\", svm_f1)"
   ]
  }
 ],
 "metadata": {
  "colab": {
   "provenance": []
  },
  "kernelspec": {
   "display_name": "Python 3 (ipykernel)",
   "language": "python",
   "name": "python3"
  },
  "language_info": {
   "codemirror_mode": {
    "name": "ipython",
    "version": 3
   },
   "file_extension": ".py",
   "mimetype": "text/x-python",
   "name": "python",
   "nbconvert_exporter": "python",
   "pygments_lexer": "ipython3",
   "version": "3.11.4"
  }
 },
 "nbformat": 4,
 "nbformat_minor": 5
}
